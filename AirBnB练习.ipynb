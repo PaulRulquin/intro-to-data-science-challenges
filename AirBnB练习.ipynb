{
 "cells": [
  {
   "cell_type": "markdown",
   "metadata": {},
   "source": [
    "# 准备工作 💻"
   ]
  },
  {
   "cell_type": "markdown",
   "metadata": {},
   "source": [
    "### 欢迎使用 Jupyter Notebook！ 如何使用这个文件？ 🤔\n",
    "\n",
    "* 在空单元格内输入代码进行编写。 这些空单元格之前有一个 `In [ ]:` 前缀，代表输入格\n",
    "* 按 `return/enter ⏎` 键在单元格内另起一行，添加新行\n",
    "* 要显示输出结果，请使用 Python 内置的 `print(任何你要看到的内容)` 方法，或者直接将要打印的内容作为单元格内的最后一行。 最后一行的结果将显示为 `Out[]:` 代表单元格的输出 :)\n",
    "* 按 `shift` + `return/enter ⏎` 运行代码🤓 这将在您当前选择的单元格中运行代码并在 `print()` 方法和单元格的最后一行打印任何内容\n",
    "* 要添加新单元格，请选择任何单元格并按 `b` 键（注意！确保不是在单元格内输入字母'b'）。 这将在下面添加一个新单元格\n",
    "* 要删除单元格，请选定该单元格并双击 `d` 键（注意！确保不是在单元格内输入字母 'd'）\n",
    "\n",
    "#### 尝试运行下面的代码吧！ 😃"
   ]
  },
  {
   "cell_type": "code",
   "execution_count": null,
   "metadata": {},
   "outputs": [],
   "source": [
    "1 + 1"
   ]
  },
  {
   "cell_type": "code",
   "execution_count": null,
   "metadata": {
    "tags": []
   },
   "outputs": [],
   "source": [
    "\"I am not printed\"\n",
    "print(\"But I am\")\n",
    "\"And so am I, because I am on the last line!\""
   ]
  },
  {
   "cell_type": "markdown",
   "metadata": {},
   "source": [
    "### A. 导入工具库"
   ]
  },
  {
   "cell_type": "code",
   "execution_count": null,
   "metadata": {
    "ExecuteTime": {
     "end_time": "2020-09-26T10:23:12.780709Z",
     "start_time": "2020-09-26T10:23:12.777522Z"
    }
   },
   "outputs": [],
   "source": [
    "import pandas as pd\n",
    "import seaborn as sns\n",
    "import matplotlib.pyplot as plt"
   ]
  },
  {
   "cell_type": "markdown",
   "metadata": {
    "ExecuteTime": {
     "end_time": "2020-09-26T10:23:42.107215Z",
     "start_time": "2020-09-26T10:23:41.980058Z"
    }
   },
   "source": [
    "### B. 加载AirBnb数据"
   ]
  },
  {
   "cell_type": "code",
   "execution_count": null,
   "metadata": {
    "ExecuteTime": {
     "end_time": "2020-09-26T10:24:23.130359Z",
     "start_time": "2020-09-26T10:24:22.975605Z"
    }
   },
   "outputs": [],
   "source": [
    "listings_df = pd.read_csv('airbnb-dataset.csv')\n",
    "listings_df"
   ]
  },
  {
   "cell_type": "markdown",
   "metadata": {},
   "source": [
    "--------"
   ]
  },
  {
   "cell_type": "markdown",
   "metadata": {},
   "source": [
    "# 轮到你了 💪"
   ]
  },
  {
   "cell_type": "markdown",
   "metadata": {},
   "source": [
    "## A. 处理数据帧Dataframe"
   ]
  },
  {
   "cell_type": "markdown",
   "metadata": {},
   "source": [
    "### 1. 您可以通过显示前 5 行来快速查看此数据帧吗？"
   ]
  },
  {
   "cell_type": "code",
   "execution_count": null,
   "metadata": {},
   "outputs": [],
   "source": [
    "# Your code goes here 💪"
   ]
  },
  {
   "cell_type": "markdown",
   "metadata": {},
   "source": [
    "<details><summary>Solution</summary>\n",
    "\n",
    "\n",
    "```pandas\n",
    "listings_df.head(5)\n",
    "```\n",
    "\n",
    "\n",
    "</details>"
   ]
  },
  {
   "cell_type": "markdown",
   "metadata": {},
   "source": [
    "### 2. 数据帧中有多少行(`row`)和列(`column`)？"
   ]
  },
  {
   "cell_type": "code",
   "execution_count": null,
   "metadata": {},
   "outputs": [],
   "source": [
    "# Your code goes here 💪"
   ]
  },
  {
   "cell_type": "markdown",
   "metadata": {
    "ExecuteTime": {
     "end_time": "2020-09-26T10:25:13.728391Z",
     "start_time": "2020-09-26T10:25:13.718289Z"
    }
   },
   "source": [
    "<details><summary>Solution</summary>\n",
    "\n",
    "\n",
    "```pandas\n",
    "listings_df.shape\n",
    "```\n",
    "\n",
    "\n",
    "</details>"
   ]
  },
  {
   "cell_type": "markdown",
   "metadata": {},
   "source": [
    "### 3. 数据帧中有哪些列(`column`)？"
   ]
  },
  {
   "cell_type": "code",
   "execution_count": null,
   "metadata": {},
   "outputs": [],
   "source": [
    "# Your code goes here 💪"
   ]
  },
  {
   "cell_type": "markdown",
   "metadata": {
    "ExecuteTime": {
     "end_time": "2020-09-26T10:25:44.752149Z",
     "start_time": "2020-09-26T10:25:44.747683Z"
    }
   },
   "source": [
    "<details><summary>Solution</summary>\n",
    "\n",
    "\n",
    "```pandas\n",
    "listings_df.columns\n",
    "```\n",
    "\n",
    "\n",
    "</details>"
   ]
  },
  {
   "cell_type": "markdown",
   "metadata": {},
   "source": [
    "### 4. 数据帧中的数据类型有哪些？"
   ]
  },
  {
   "cell_type": "code",
   "execution_count": null,
   "metadata": {},
   "outputs": [],
   "source": [
    "# Your code goes here 💪"
   ]
  },
  {
   "cell_type": "markdown",
   "metadata": {
    "ExecuteTime": {
     "end_time": "2020-09-26T10:25:58.602929Z",
     "start_time": "2020-09-26T10:25:58.596505Z"
    }
   },
   "source": [
    "<details><summary>Solution</summary>\n",
    "\n",
    "\n",
    "```pandas\n",
    "listings_df.dtypes\n",
    "```\n",
    "\n",
    "\n",
    "</details>"
   ]
  },
  {
   "cell_type": "markdown",
   "metadata": {},
   "source": [
    "## 现在让我们来清理数据 👌"
   ]
  },
  {
   "cell_type": "markdown",
   "metadata": {},
   "source": [
    "### 5. 数据帧中的有多少空值（`null`)? "
   ]
  },
  {
   "cell_type": "code",
   "execution_count": null,
   "metadata": {},
   "outputs": [],
   "source": [
    "# Your code goes here 💪"
   ]
  },
  {
   "cell_type": "markdown",
   "metadata": {
    "ExecuteTime": {
     "end_time": "2020-09-26T10:29:21.588029Z",
     "start_time": "2020-09-26T10:29:21.567087Z"
    }
   },
   "source": [
    "<details><summary>Solution</summary>\n",
    "\n",
    "\n",
    "```pandas\n",
    "listings_df.isnull().sum()\n",
    "```\n",
    "</details>"
   ]
  },
  {
   "cell_type": "markdown",
   "metadata": {},
   "source": [
    "### 假设我们不想考虑有关 `host_name` 和 `last_reviews` 的数据, 还想删除 `id` 列。"
   ]
  },
  {
   "cell_type": "markdown",
   "metadata": {},
   "source": [
    "### 6. 你知道如何删除 `id`、`host_name`、`last_review` 这三列吗？"
   ]
  },
  {
   "cell_type": "code",
   "execution_count": null,
   "metadata": {},
   "outputs": [],
   "source": [
    "# Your code goes here 💪"
   ]
  },
  {
   "cell_type": "markdown",
   "metadata": {
    "ExecuteTime": {
     "end_time": "2020-09-26T10:32:04.780441Z",
     "start_time": "2020-09-26T10:32:04.769997Z"
    }
   },
   "source": [
    "<details><summary>Solution</summary>\n",
    "\n",
    "\n",
    "```pandas\n",
    "columns_to_drop = ['id', 'host_name', 'last_review']\n",
    "listings_df.drop(columns_to_drop, axis=\"columns\", inplace=True)\n",
    "```\n",
    "\n",
    "</details>"
   ]
  },
  {
   "cell_type": "code",
   "execution_count": 3,
   "metadata": {
    "ExecuteTime": {
     "end_time": "2020-09-26T10:32:29.146617Z",
     "start_time": "2020-09-26T10:32:29.130003Z"
    }
   },
   "outputs": [],
   "source": [
    "# 让我们通过打印数据帧Dataframe来查看结果 👇\n"
   ]
  },
  {
   "cell_type": "markdown",
   "metadata": {},
   "source": [
    "我们可以看到 `reviews per month` 列有很多 `NaN`"
   ]
  },
  {
   "cell_type": "markdown",
   "metadata": {},
   "source": [
    "### 7. 你能用“0”替换 `reviews_per_month` 的“NaN”吗？"
   ]
  },
  {
   "cell_type": "code",
   "execution_count": null,
   "metadata": {},
   "outputs": [],
   "source": [
    "# Your code goes here 💪"
   ]
  },
  {
   "cell_type": "markdown",
   "metadata": {
    "ExecuteTime": {
     "end_time": "2020-09-26T10:35:19.013452Z",
     "start_time": "2020-09-26T10:35:19.009348Z"
    }
   },
   "source": [
    "<details><summary>Solution</summary>\n",
    "\n",
    "\n",
    "```pandas\n",
    "listings_df.fillna({'reviews_per_month': 0}, inplace=True)\n",
    "```\n",
    "\n",
    "</details>"
   ]
  },
  {
   "cell_type": "code",
   "execution_count": null,
   "metadata": {
    "ExecuteTime": {
     "end_time": "2020-09-26T10:35:26.355483Z",
     "start_time": "2020-09-26T10:35:26.337907Z"
    }
   },
   "outputs": [],
   "source": [
    "# 让我们再次通过打印数据帧来查看结果👇\n"
   ]
  },
  {
   "cell_type": "markdown",
   "metadata": {},
   "source": [
    "### 8. 你能否仅通过 `name`、`neighbourhood group`、`price` 这三列查看此数据帧？\n"
   ]
  },
  {
   "cell_type": "code",
   "execution_count": null,
   "metadata": {},
   "outputs": [],
   "source": [
    "# Your code goes here 💪"
   ]
  },
  {
   "cell_type": "markdown",
   "metadata": {
    "ExecuteTime": {
     "end_time": "2020-09-26T10:36:30.910576Z",
     "start_time": "2020-09-26T10:36:30.894997Z"
    }
   },
   "source": [
    "<details><summary>Solution</summary>\n",
    "\n",
    "\n",
    "```pandas\n",
    "listings_df[['name', 'neighbourhood_group', 'price']]\n",
    "```\n",
    "\n",
    "</details>"
   ]
  },
  {
   "cell_type": "markdown",
   "metadata": {},
   "source": [
    "###  9. 你知道截取数据帧前 9 行的方法吗？"
   ]
  },
  {
   "cell_type": "code",
   "execution_count": null,
   "metadata": {},
   "outputs": [],
   "source": [
    "# Your code goes here 💪"
   ]
  },
  {
   "cell_type": "markdown",
   "metadata": {
    "ExecuteTime": {
     "end_time": "2020-09-26T10:37:45.587759Z",
     "start_time": "2020-09-26T10:37:45.568697Z"
    }
   },
   "source": [
    "<details><summary>Solution</summary>\n",
    "\n",
    "\n",
    "```pandas\n",
    "listings_df[0:8]\n",
    "```\n",
    "\n",
    "</details>"
   ]
  },
  {
   "cell_type": "markdown",
   "metadata": {},
   "source": [
    "### 10. 你能在截取数据帧前 9 行的同时，只显示 `name`、`neighbourhood group`、`price` 这三列吗？"
   ]
  },
  {
   "cell_type": "code",
   "execution_count": null,
   "metadata": {},
   "outputs": [],
   "source": [
    "# Your code goes here 💪"
   ]
  },
  {
   "cell_type": "markdown",
   "metadata": {
    "ExecuteTime": {
     "end_time": "2020-09-26T10:38:05.622816Z",
     "start_time": "2020-09-26T10:38:05.611899Z"
    }
   },
   "source": [
    "<details><summary>Solution</summary>\n",
    "\n",
    "\n",
    "```pandas\n",
    "listings_df[0:8][['name', 'neighbourhood_group', 'price']]\n",
    "```\n",
    "\n",
    "</details>"
   ]
  },
  {
   "cell_type": "markdown",
   "metadata": {},
   "source": [
    "## 布尔索引"
   ]
  },
  {
   "cell_type": "markdown",
   "metadata": {},
   "source": [
    "### 11. 让我们找出价格低于“100”的公寓\n"
   ]
  },
  {
   "cell_type": "code",
   "execution_count": null,
   "metadata": {},
   "outputs": [],
   "source": [
    "# Your code goes here 💪"
   ]
  },
  {
   "cell_type": "markdown",
   "metadata": {
    "ExecuteTime": {
     "end_time": "2020-09-26T10:41:26.856951Z",
     "start_time": "2020-09-26T10:41:26.847719Z"
    }
   },
   "source": [
    "<details><summary>Solution</summary>\n",
    "\n",
    "\n",
    "```pandas\n",
    "listings_df[listings_df['price'] < 100]\n",
    "```\n",
    "\n",
    "</details>"
   ]
  },
  {
   "cell_type": "markdown",
   "metadata": {},
   "source": [
    "## B. 探索性数据分析\n",
    "\n",
    "你可以在学习内容（视频和 Pandas 摘要）中找到解决其中一些挑战的正确方法。 但对于大多数情况来说，你需要自己进行探索——例如查看 [Pandas 文档](https://pandas.pydata.org/docs/user_guide/index.html)，还有 [Stackoverflow](https://stackoverflow.com/) 或 [Quora](https://www.quora.com/) 等网站。 绝对能找到类似的问题😉"
   ]
  },
  {
   "cell_type": "markdown",
   "metadata": {},
   "source": [
    "### 1. 评论`number of reviews`排名前10的是什么？"
   ]
  },
  {
   "cell_type": "code",
   "execution_count": null,
   "metadata": {
    "ExecuteTime": {
     "end_time": "2020-09-26T12:40:55.113645Z",
     "start_time": "2020-09-26T12:40:55.098188Z"
    }
   },
   "outputs": [],
   "source": [
    "# Your code goes here 💪"
   ]
  },
  {
   "cell_type": "markdown",
   "metadata": {
    "ExecuteTime": {
     "end_time": "2020-09-26T12:41:25.325065Z",
     "start_time": "2020-09-26T12:41:25.296474Z"
    }
   },
   "source": [
    "<details><summary>Solution</summary>\n",
    "\n",
    "\n",
    "```pandas\n",
    "listings_df.nlargest(10, 'number_of_reviews')\n",
    "```\n",
    "\n",
    "</details>"
   ]
  },
  {
   "cell_type": "markdown",
   "metadata": {},
   "source": [
    "### 2. 纽约市有哪些街区 `neighbourhood`？"
   ]
  },
  {
   "cell_type": "code",
   "execution_count": null,
   "metadata": {},
   "outputs": [],
   "source": [
    "# Your code goes here 💪"
   ]
  },
  {
   "cell_type": "markdown",
   "metadata": {},
   "source": [
    "<details><summary>Solution</summary>\n",
    "\n",
    "\n",
    "```pandas\n",
    "listings_df['neighbourhood'].unique()\n",
    "```\n",
    "\n",
    "</p>\n",
    "</details>"
   ]
  },
  {
   "cell_type": "markdown",
   "metadata": {},
   "source": [
    "### 3. 纽约市有哪些行政区`neighourhood group`？"
   ]
  },
  {
   "cell_type": "code",
   "execution_count": null,
   "metadata": {},
   "outputs": [],
   "source": [
    "# Your code goes here 💪"
   ]
  },
  {
   "cell_type": "markdown",
   "metadata": {
    "ExecuteTime": {
     "end_time": "2020-09-26T12:48:56.425931Z",
     "start_time": "2020-09-26T12:48:56.419651Z"
    }
   },
   "source": [
    "<details><summary>Solution</summary>\n",
    "\n",
    "\n",
    "```pandas\n",
    "listings_df['neighbourhood_group'].unique()\n",
    "```\n",
    "\n",
    "</p>\n",
    "</details>"
   ]
  },
  {
   "cell_type": "markdown",
   "metadata": {},
   "source": [
    "### 4. [Bonus] 你能计算出每个行政区`neighourhood group`有多少套公寓吗？"
   ]
  },
  {
   "cell_type": "code",
   "execution_count": null,
   "metadata": {},
   "outputs": [],
   "source": [
    "# Your code goes here 💪"
   ]
  },
  {
   "cell_type": "markdown",
   "metadata": {
    "ExecuteTime": {
     "end_time": "2020-09-26T12:54:29.150430Z",
     "start_time": "2020-09-26T12:54:29.139887Z"
    }
   },
   "source": [
    "<details><summary>Solution</summary>\n",
    "\n",
    "\n",
    "```pandas\n",
    "listings_df['neighbourhood_group'].value_counts()\n",
    "```\n",
    "\n",
    "</p>\n",
    "</details>"
   ]
  },
  {
   "cell_type": "markdown",
   "metadata": {},
   "source": [
    "### 5.  排名前 10 的街区`neighbourhood`有哪些？\n"
   ]
  },
  {
   "cell_type": "code",
   "execution_count": null,
   "metadata": {},
   "outputs": [],
   "source": [
    "# Your code goes here 💪"
   ]
  },
  {
   "cell_type": "markdown",
   "metadata": {},
   "source": [
    "<details><summary>Solution</summary>\n",
    "\n",
    "\n",
    "```pandas\n",
    "listings_df['neighbourhood'].value_counts().head(10)\n",
    "```\n",
    "\n",
    "</p>\n",
    "</details>"
   ]
  },
  {
   "cell_type": "markdown",
   "metadata": {},
   "source": [
    "### 6. [Bonus] 你能在直方图上标出公寓数量排名前10街区`neighbourhood`中，每个街区的公寓数量吗？\n"
   ]
  },
  {
   "cell_type": "code",
   "execution_count": null,
   "metadata": {},
   "outputs": [],
   "source": [
    "# Your code goes here 💪"
   ]
  },
  {
   "cell_type": "markdown",
   "metadata": {
    "ExecuteTime": {
     "end_time": "2020-09-26T12:57:49.736620Z",
     "start_time": "2020-09-26T12:57:49.066896Z"
    }
   },
   "source": [
    "<details><summary>Solution</summary>\n",
    "\n",
    "\n",
    "```pandas\n",
    "listings_df['neighbourhood'].value_counts().head(10).plot(kind='bar')\n",
    "```\n",
    "\n",
    "</p>\n",
    "</details>"
   ]
  },
  {
   "cell_type": "markdown",
   "metadata": {},
   "source": [
    "### 让我们使用 `seaborn` 库来制作更好的图表 📊"
   ]
  },
  {
   "cell_type": "markdown",
   "metadata": {},
   "source": [
    "让我们使用 seaborn 绘制 2.3.4 的答案 - 每个行政区`neighbourhood group`的公寓数量 [countplot](https://seaborn.pydata.org/generated/seaborn.countplot.html)"
   ]
  },
  {
   "cell_type": "code",
   "execution_count": null,
   "metadata": {
    "ExecuteTime": {
     "end_time": "2020-09-26T13:09:06.400231Z",
     "start_time": "2020-09-26T13:09:06.397482Z"
    }
   },
   "outputs": [],
   "source": [
    "# Your code here (我们想要如下图所示的内容）\n"
   ]
  },
  {
   "cell_type": "code",
   "execution_count": null,
   "metadata": {},
   "outputs": [],
   "source": [
    "listings_df['neighbourhood_group'].value_counts()"
   ]
  },
  {
   "cell_type": "markdown",
   "metadata": {},
   "source": [
    "<details><summary>Solution</summary>\n",
    "\n",
    "\n",
    "```pandas\n",
    "sns.countplot(data=listings_df, x='neighbourhood_group')\n",
    "```\n",
    "\n",
    "</p>\n",
    "</details>"
   ]
  },
  {
   "cell_type": "markdown",
   "metadata": {},
   "source": [
    "### 7. 有哪些不同的房型？"
   ]
  },
  {
   "cell_type": "code",
   "execution_count": null,
   "metadata": {},
   "outputs": [],
   "source": [
    "# Your code goes here 💪"
   ]
  },
  {
   "cell_type": "markdown",
   "metadata": {
    "ExecuteTime": {
     "end_time": "2020-09-26T13:24:14.859121Z",
     "start_time": "2020-09-26T13:24:14.852424Z"
    }
   },
   "source": [
    "<details><summary>Solution</summary>\n",
    "\n",
    "\n",
    "```pandas\n",
    "listings_df['room_type'].unique()\n",
    "```\n",
    "\n",
    "\n",
    "</details>"
   ]
  },
  {
   "cell_type": "markdown",
   "metadata": {},
   "source": [
    "### 8. 你能画出每个行政区`neighbourhood group`的房间类型吗？"
   ]
  },
  {
   "cell_type": "code",
   "execution_count": null,
   "metadata": {},
   "outputs": [],
   "source": [
    "# Your code goes here (let's use  the seaborn library!) 💪"
   ]
  },
  {
   "cell_type": "markdown",
   "metadata": {
    "ExecuteTime": {
     "end_time": "2020-09-26T13:27:53.319619Z",
     "start_time": "2020-09-26T13:27:53.077122Z"
    }
   },
   "source": [
    "<details><summary>Solution</summary>\n",
    "\n",
    "\n",
    "```pandas\n",
    "sns.countplot(data=listings_df, x='neighbourhood_group', hue='room_type')\n",
    "```\n",
    "\n",
    "</details>"
   ]
  },
  {
   "cell_type": "markdown",
   "metadata": {},
   "source": [
    "### 9. 公寓价格的分布是怎样的？\n",
    "\n",
    "参考 Seaborn [distplot](https://seaborn.pydata.org/generated/seaborn.distplot.html) 方法!"
   ]
  },
  {
   "cell_type": "code",
   "execution_count": null,
   "metadata": {},
   "outputs": [],
   "source": [
    "# Your code goes here (seaborn library) 💪"
   ]
  },
  {
   "cell_type": "markdown",
   "metadata": {
    "ExecuteTime": {
     "end_time": "2020-09-26T13:30:04.908699Z",
     "start_time": "2020-09-26T13:30:04.660182Z"
    }
   },
   "source": [
    "<details><summary>Solution</summary>\n",
    "\n",
    "\n",
    "```pandas\n",
    "sns.distplot(listings_df['price'])\n",
    "```\n",
    "\n",
    "</p>\n",
    "</details>"
   ]
  },
  {
   "cell_type": "markdown",
   "metadata": {},
   "source": [
    "### 10. 我们可以看到一些 outliers（离群值）， 你能画出价格低于“500”的公寓的分布吗？"
   ]
  },
  {
   "cell_type": "code",
   "execution_count": null,
   "metadata": {},
   "outputs": [],
   "source": [
    "# Your code goes here (seaborn library) 💪"
   ]
  },
  {
   "cell_type": "markdown",
   "metadata": {
    "ExecuteTime": {
     "end_time": "2020-09-26T13:42:50.361175Z",
     "start_time": "2020-09-26T13:42:50.351598Z"
    }
   },
   "source": [
    "<details><summary>Solution</summary>\n",
    "\n",
    "\n",
    "```pandas\n",
    "affordable_df = listings_df[listings_df['price'] <= 500]\n",
    "sns.displot(affordable_df['price'])\n",
    "```\n",
    "</details>"
   ]
  },
  {
   "cell_type": "markdown",
   "metadata": {},
   "source": [
    "### 11. 公寓的平均价格是多少？"
   ]
  },
  {
   "cell_type": "code",
   "execution_count": null,
   "metadata": {},
   "outputs": [],
   "source": [
    "# Your code goes here 💪"
   ]
  },
  {
   "cell_type": "markdown",
   "metadata": {
    "ExecuteTime": {
     "end_time": "2020-09-26T13:43:28.850219Z",
     "start_time": "2020-09-26T13:43:28.844823Z"
    }
   },
   "source": [
    "<details><summary>Solution</summary>\n",
    "\n",
    "\n",
    "```pandas\n",
    "affordable_df['price'].mean()\n",
    "```\n",
    "</details>"
   ]
  },
  {
   "cell_type": "markdown",
   "metadata": {},
   "source": [
    "### 12.  基于行政区`neighbourhood group`的公寓价格分布情况如何？\n",
    "\n",
    "[violinplot](https://seaborn.pydata.org/generated/seaborn.violinplot.html) 或者 [catplot](https://seaborn.pydata.org/generated/seaborn.catplot.html) 有助于按不同类别划分的可视化分布。"
   ]
  },
  {
   "cell_type": "code",
   "execution_count": null,
   "metadata": {
    "ExecuteTime": {
     "end_time": "2020-09-26T13:50:39.076310Z",
     "start_time": "2020-09-26T13:50:39.074066Z"
    }
   },
   "outputs": [],
   "source": [
    "# Your code goes here 💪 \n",
    "plt.figure(figsize=(15, 8)) # you can use this line to resize the (width, height) of your plots"
   ]
  },
  {
   "cell_type": "markdown",
   "metadata": {
    "ExecuteTime": {
     "end_time": "2020-09-26T13:51:12.242269Z",
     "start_time": "2020-09-26T13:51:11.885882Z"
    }
   },
   "source": [
    "<details><summary>Solution</summary>\n",
    "\n",
    "\n",
    "```pandas\n",
    "plt.figure(figsize=(15, 8))\n",
    "sns.violinplot(data=affordable_df, x=\"neighbourhood_group\", y=\"price\")\n",
    "```\n",
    "</details>"
   ]
  },
  {
   "cell_type": "markdown",
   "metadata": {},
   "source": [
    "### 13. 我们可以在地图上绘制吗？\n",
    "\n",
    "\n",
    "在检查解决问题之前，请考虑哪些列column可以帮助我们做到这一点 🤔\n",
    "\n",
    "`horizontal` (`x`) 轴上可能是什么，`vertical` (`y`) 轴上会是什么？\n",
    "\n",
    "你可以参考 [DataFrame.plot()](https://pandas.pydata.org/pandas-docs/stable/reference/api/pandas.DataFrame.plot.html) 函数，考虑加入参数`kind='scatter'` 制作散点图 - 每个公寓为一个点🏠"
   ]
  },
  {
   "cell_type": "code",
   "execution_count": null,
   "metadata": {},
   "outputs": [],
   "source": [
    "# Your code goes here 💪"
   ]
  },
  {
   "cell_type": "markdown",
   "metadata": {
    "ExecuteTime": {
     "end_time": "2020-09-26T13:58:02.860921Z",
     "start_time": "2020-09-26T13:58:02.845351Z"
    }
   },
   "source": [
    "\n",
    "<details><summary>Solution</summary>\n",
    "\n",
    "\n",
    "```pandas\n",
    "affordable_df.plot(\n",
    "    kind='scatter',\n",
    "    x='longitude',\n",
    "    y='latitude',\n",
    "    c='price',\n",
    "    cmap='inferno',\n",
    "    colorbar=True,\n",
    "    alpha=0.8,\n",
    "    figsize=(12,8))\n",
    "```\n",
    "</details>"
   ]
  },
  {
   "cell_type": "markdown",
   "metadata": {},
   "source": [
    "### [Bonus] 让我们尝试将散点图覆盖在纽约市的地图上"
   ]
  },
  {
   "cell_type": "markdown",
   "metadata": {
    "ExecuteTime": {
     "end_time": "2020-09-26T13:59:19.754206Z",
     "start_time": "2020-09-26T13:59:18.679774Z"
    }
   },
   "source": [
    "\n",
    "<details><summary>Solution</summary>\n",
    "\n",
    "\n",
    "```pandas\n",
    "plt.imshow(plt.imread('https://upload.wikimedia.org/wikipedia/commons/e/ec/Neighbourhoods_New_York_City_Map.PNG'), zorder=0, extent=[-74.258, -73.7, 40.49, 40.92])\n",
    "ax = plt.gca()\n",
    "affordable_df.plot(\n",
    "    ax=ax,\n",
    "    zorder=1,\n",
    "    kind='scatter',\n",
    "    x='longitude',\n",
    "    y='latitude',\n",
    "    c='price',\n",
    "    cmap='inferno',\n",
    "    colorbar=True,\n",
    "    alpha=0.8,\n",
    "    figsize=(12,8))\n",
    "```\n",
    "</details>"
   ]
  },
  {
   "cell_type": "markdown",
   "metadata": {},
   "source": [
    "**恭喜你完成了这个挑战！** 🏙️"
   ]
  },
  {
   "cell_type": "code",
   "execution_count": null,
   "metadata": {},
   "outputs": [],
   "source": []
  }
 ],
 "metadata": {
  "kernelspec": {
   "display_name": "Python 3",
   "language": "python",
   "name": "python3"
  },
  "language_info": {
   "codemirror_mode": {
    "name": "ipython",
    "version": 3
   },
   "file_extension": ".py",
   "mimetype": "text/x-python",
   "name": "python",
   "nbconvert_exporter": "python",
   "pygments_lexer": "ipython3",
   "version": "3.8.6"
  },
  "toc": {
   "base_numbering": 1,
   "nav_menu": {},
   "number_sections": true,
   "sideBar": true,
   "skip_h1_title": false,
   "title_cell": "Table of Contents",
   "title_sidebar": "Contents",
   "toc_cell": false,
   "toc_position": {},
   "toc_section_display": true,
   "toc_window_display": false
  },
  "varInspector": {
   "cols": {
    "lenName": 16,
    "lenType": 16,
    "lenVar": 40
   },
   "kernels_config": {
    "python": {
     "delete_cmd_postfix": "",
     "delete_cmd_prefix": "del ",
     "library": "var_list.py",
     "varRefreshCmd": "print(var_dic_list())"
    },
    "r": {
     "delete_cmd_postfix": ") ",
     "delete_cmd_prefix": "rm(",
     "library": "var_list.r",
     "varRefreshCmd": "cat(var_dic_list()) "
    }
   },
   "types_to_exclude": [
    "module",
    "function",
    "builtin_function_or_method",
    "instance",
    "_Feature"
   ],
   "window_display": false
  }
 },
 "nbformat": 4,
 "nbformat_minor": 4
}
