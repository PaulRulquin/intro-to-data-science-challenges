{
 "cells": [
  {
   "cell_type": "markdown",
   "metadata": {},
   "source": [
    "# Setup 💻 (do not forget to run these cells before starting 👇)"
   ]
  },
  {
   "cell_type": "markdown",
   "metadata": {},
   "source": [
    "## 1. Importing Libraries"
   ]
  },
  {
   "cell_type": "code",
   "execution_count": 1,
   "metadata": {
    "ExecuteTime": {
     "end_time": "2020-09-27T18:10:59.565886Z",
     "start_time": "2020-09-27T18:10:58.349400Z"
    }
   },
   "outputs": [],
   "source": [
    "import pandas as pd\n",
    "import numpy as np\n",
    "import matplotlib.pyplot as plt\n",
    "import seaborn as sns"
   ]
  },
  {
   "cell_type": "markdown",
   "metadata": {
    "ExecuteTime": {
     "end_time": "2020-09-27T18:10:59.695147Z",
     "start_time": "2020-09-27T18:10:59.567829Z"
    }
   },
   "source": [
    "## 2. Loading Spotify dataset"
   ]
  },
  {
   "cell_type": "code",
   "execution_count": null,
   "metadata": {
    "ExecuteTime": {
     "end_time": "2020-09-27T18:11:00.172221Z",
     "start_time": "2020-09-27T18:10:59.699946Z"
    }
   },
   "outputs": [],
   "source": [
    "df = pd.read_csv('spotify-dataset.csv')\n",
    "df"
   ]
  },
  {
   "cell_type": "markdown",
   "metadata": {},
   "source": [
    "----------"
   ]
  },
  {
   "cell_type": "markdown",
   "metadata": {},
   "source": [
    "# Your Assignement starts here 🔥"
   ]
  },
  {
   "cell_type": "markdown",
   "metadata": {},
   "source": [
    "Note, that **there are no solutions** to the exercises below. However, these questions are very similar to the exercise you did in the last class - **Exploring the AirBnB dataset**.\n",
    "\n",
    "So make sure to keep that one open in another tab, so you can easily look back at your previous answers 🙌 And of course the internet, [Pandas guide](https://pandas.pydata.org/docs/user_guide/index.html) and the teachers are here to help!"
   ]
  },
  {
   "cell_type": "markdown",
   "metadata": {},
   "source": [
    "## Can you display the first 10 row of the dataset? "
   ]
  },
  {
   "cell_type": "code",
   "execution_count": null,
   "metadata": {},
   "outputs": [],
   "source": [
    "# Your code goes here 💪"
   ]
  },
  {
   "cell_type": "markdown",
   "metadata": {
    "ExecuteTime": {
     "end_time": "2020-09-27T15:38:37.540621Z",
     "start_time": "2020-09-27T15:38:37.536934Z"
    }
   },
   "source": [
    "## How many songs are there in the dataset?"
   ]
  },
  {
   "cell_type": "code",
   "execution_count": null,
   "metadata": {},
   "outputs": [],
   "source": [
    "# Your code goes here 💪"
   ]
  },
  {
   "cell_type": "markdown",
   "metadata": {},
   "source": [
    "## How many artists?"
   ]
  },
  {
   "cell_type": "code",
   "execution_count": 7,
   "metadata": {},
   "outputs": [],
   "source": [
    "# Your code goes here 💪"
   ]
  },
  {
   "cell_type": "markdown",
   "metadata": {},
   "source": [
    "## What's the average duration of a song, in minutes?\n",
    "\n",
    "**Note** that the columns is called `duration_ms`, hence the duration is in milliseconds."
   ]
  },
  {
   "cell_type": "code",
   "execution_count": null,
   "metadata": {},
   "outputs": [],
   "source": [
    "# Your code goes here 💪"
   ]
  },
  {
   "cell_type": "markdown",
   "metadata": {},
   "source": [
    "## Can you plot the distribution of the durations?"
   ]
  },
  {
   "cell_type": "code",
   "execution_count": null,
   "metadata": {},
   "outputs": [],
   "source": [
    "# Your code goes here 💪"
   ]
  },
  {
   "cell_type": "markdown",
   "metadata": {},
   "source": [
    "## [Follow-up] Can you make this plot more readable by removing outliers (extreme values)?\n",
    "\n",
    "[Boolean filtering](https://cmdlinetips.com/2018/02/how-to-subset-pandas-dataframe-based-on-values-of-a-column/) will help here! Make sure to check back with the AirBnB challenge on how we dealt with outliers there.\n",
    "\n",
    "**Note** that we only remove  around 470 songs (out of almost 170k) and get a way more insightful plot!"
   ]
  },
  {
   "cell_type": "code",
   "execution_count": 73,
   "metadata": {},
   "outputs": [],
   "source": [
    "# Your code goes here 💪"
   ]
  },
  {
   "cell_type": "markdown",
   "metadata": {},
   "source": [
    "**Tip:** you can add the `bins` parameter to your plot function, to increase the number of columns in your graph. For example:\n",
    "\n",
    "`sns.distplot(df['duration_ms'], bins=30)`\n",
    "\n",
    "Try to change the number of `bins` and see how that affects the readability of your graph."
   ]
  },
  {
   "cell_type": "markdown",
   "metadata": {},
   "source": [
    "## What are the top 10 longest songs (duration)?"
   ]
  },
  {
   "cell_type": "code",
   "execution_count": 70,
   "metadata": {},
   "outputs": [],
   "source": [
    "# Your code goes here 💪"
   ]
  },
  {
   "cell_type": "markdown",
   "metadata": {},
   "source": [
    "## What are the top 10 most popular songs? We would like a DataFrame with only the columns `artists`, `name` and `popularity` as output!"
   ]
  },
  {
   "cell_type": "code",
   "execution_count": null,
   "metadata": {},
   "outputs": [],
   "source": [
    "# Your code goes here 💪"
   ]
  },
  {
   "cell_type": "markdown",
   "metadata": {},
   "source": [
    "# You get a call from Daniel Ek, Spotify CEO ☎️\n",
    "\n",
    "<div style=\"display: flex; margin-top: 20px;\">\n",
    "    <p style=\"font-style: italic; padding: 30px;\">Hi there! Excited to have you working on analysing our data and looking forward to your findings! 👍 <br> I was hoping you can help me answer some of these questions below. It could help guide the business on our artist selection strategy.</p>\n",
    "    <img src=\"./photo.jpeg\" width=300/>\n",
    "</div>\n"
   ]
  },
  {
   "cell_type": "markdown",
   "metadata": {},
   "source": [
    "## First of all, let's create a new DataFrame with only the post-2000 songs"
   ]
  },
  {
   "cell_type": "code",
   "execution_count": 74,
   "metadata": {},
   "outputs": [],
   "source": [
    "# Your code here"
   ]
  },
  {
   "cell_type": "markdown",
   "metadata": {},
   "source": [
    "<details><summary>Solution</summary>\n",
    "\n",
    "```python\n",
    "post2000 = df[df['year'] > 1999]\n",
    "```\n",
    "\n",
    "</details>"
   ]
  },
  {
   "cell_type": "markdown",
   "metadata": {},
   "source": [
    "## What are the top 10 artists in terms of number of songs in this period?\n",
    "\n",
    "**Tip**: this can be calculated with `.value_counts()` or with the `.groupby()` and then the [.count()](https://pandas.pydata.org/pandas-docs/stable/reference/api/pandas.Series.count.html) function - another cousin of the `.mean()` and `.sum()` methods.\n",
    "\n",
    "As a reminder, here's the typical `.groupby()` syntax:\n",
    "\n",
    "```\n",
    "df.groupby('COLUMN_NAME').some_function()[['COLUMN_TO_MEASURE']]\n",
    "```\n",
    "\n",
    "For example:\n",
    "\n",
    "```\n",
    "df.groupby('popularity').count()[['artists']]\n",
    "df.groupby('year').sum()[['duration_ms']]\n",
    "```\n",
    "\n",
    "Or if you want to see **multiple columns**:\n",
    "\n",
    "```\n",
    "df.groupby('popularity').count()[['artists', 'key']]\n",
    "df.groupby('year').sum()[['duration_ms', 'loudness']]\n",
    "```\n",
    "\n",
    "Pandas documentation has a [thorough guide on using .groupby()](https://pandas.pydata.org/pandas-docs/stable/user_guide/groupby.html). It might be tricky to read, but you can find lots of insight here!"
   ]
  },
  {
   "cell_type": "code",
   "execution_count": 132,
   "metadata": {},
   "outputs": [],
   "source": [
    "# Your code goes here 💪"
   ]
  },
  {
   "cell_type": "markdown",
   "metadata": {},
   "source": [
    "<details><summary>Solution</summary>\n",
    "\n",
    "```python\n",
    "post2000['artists'].value_counts().head(10)\n",
    "```\n",
    "or\n",
    "\n",
    "```python\n",
    "artist_songs = post2000.groupby('artists').count()[['name']]\n",
    "artist_songs.sort_values('name').tail(10)\n",
    "```\n",
    "</details>\n"
   ]
  },
  {
   "cell_type": "markdown",
   "metadata": {},
   "source": [
    "### Make sure to make your findings visual 📊 You're not going to send Daniel your Python code, are you? 👀"
   ]
  },
  {
   "cell_type": "code",
   "execution_count": 106,
   "metadata": {},
   "outputs": [],
   "source": [
    "# Your code here"
   ]
  },
  {
   "cell_type": "markdown",
   "metadata": {},
   "source": [
    "\n",
    "\n",
    "<details><summary>Solution</summary>\n",
    "\n",
    "```python\n",
    "top10artists = post2000['artists'].value_counts().head(10)\n",
    "top10artists.plot(kind='bar')\n",
    "```\n",
    "    \n",
    "</details>\n"
   ]
  },
  {
   "cell_type": "markdown",
   "metadata": {},
   "source": [
    "## [Follow-up] Do the same artists often get highest popularity? Let's check the 10 most popular artists and see if the artists above often appear in the list\n",
    "\n",
    "**Tip:** since `popularity` is a _numerical_ column, we can calculate the `.mean()` of the popularity, grouped by `artists`."
   ]
  },
  {
   "cell_type": "code",
   "execution_count": 87,
   "metadata": {},
   "outputs": [],
   "source": [
    "# Your code goes here 💪"
   ]
  },
  {
   "cell_type": "markdown",
   "metadata": {},
   "source": [
    "Explain your findings to Spotify CEO here 💪"
   ]
  },
  {
   "cell_type": "markdown",
   "metadata": {},
   "source": [
    "<details><summary>Solution</summary>\n",
    "\n",
    "\n",
    "```python\n",
    "post2000.groupby('artists').mean()[['popularity']].sort_values('popularity').tail(10)\n",
    "```\n",
    "\n",
    "This would be a one-liner solution, but remember that you can also break your code up to multiple lines to make it more readable:\n",
    "\n",
    "```python\n",
    "artist_popularity = post2000.groupby('artists').mean()[['popularity']]\n",
    "artist_popularity.sort_values('popularity').tail(10)\n",
    "```\n",
    "\n",
    "We take the `tail()` because by default the `sort_values()` function sorts from lowest to highest.\n",
    "    \n",
    "</details>\n"
   ]
  },
  {
   "cell_type": "markdown",
   "metadata": {},
   "source": [
    "## Can you visually check how is `popularity` changing with the `year`?\n",
    "\n",
    "**Tip:** a **scatterplot** would be great to visualize a relationship between two numeric columns."
   ]
  },
  {
   "cell_type": "code",
   "execution_count": 109,
   "metadata": {},
   "outputs": [],
   "source": [
    "# Your code goes here "
   ]
  },
  {
   "cell_type": "markdown",
   "metadata": {},
   "source": [
    "Explain your findings to Spotify CEO here 💪"
   ]
  },
  {
   "cell_type": "markdown",
   "metadata": {},
   "source": [
    "\n",
    "\n",
    "<details><summary>Solution</summary>\n",
    "\n",
    "```python\n",
    "sns.scatterplot(data=post2000, x='year', y='popularity')\n",
    "```\n",
    "    \n",
    "</details>\n"
   ]
  },
  {
   "cell_type": "markdown",
   "metadata": {},
   "source": [
    "**Tip**: even though you can probably already see a trend, you can use the Seaborn `regplot` to draw a trend line. Give it a try 👇"
   ]
  },
  {
   "cell_type": "code",
   "execution_count": 117,
   "metadata": {},
   "outputs": [],
   "source": [
    "sns.regplot(data=post2000, x='year', y='popularity')"
   ]
  },
  {
   "cell_type": "markdown",
   "metadata": {},
   "source": [
    "## Most importantly - what makes awesome artists? 🤔\n",
    "\n",
    "You have many interesting features in the data - different aspects of the song, like it's `speechiness`, `danceability`, `energy` and many more.\n",
    "\n",
    "I want to know what differentiates top artists from the least popular ones. What kind of artists should we look for? 👩‍🎤"
   ]
  },
  {
   "cell_type": "code",
   "execution_count": null,
   "metadata": {},
   "outputs": [],
   "source": [
    "# Tip: do this step by step 💪\n",
    "# 1. Create a DataFrame from the Top 10 most popular artists \n",
    "# (similar to what you did above, but note we want a DataFrame with all the data, not just one column this time)"
   ]
  },
  {
   "cell_type": "markdown",
   "metadata": {},
   "source": [
    "\n",
    "\n",
    "<details><summary>Solution</summary>\n",
    "\n",
    "```python\n",
    "top10 = post2000.groupby('artists').mean().sort_values('popularity').tail(10)\n",
    "```\n",
    "    \n",
    "</details>\n"
   ]
  },
  {
   "cell_type": "code",
   "execution_count": 122,
   "metadata": {},
   "outputs": [],
   "source": [
    "# 2. Create a DataFrame from the 10 least popular artists \n",
    "# (you should be able to reuse the code above, and just take 10 artists from the opposite end ;))"
   ]
  },
  {
   "cell_type": "markdown",
   "metadata": {},
   "source": [
    "<details><summary>Solution</summary>\n",
    "\n",
    "```python\n",
    "worst10 = post2000.groupby('artists').mean().sort_values('popularity').head(10)\n",
    "```\n",
    "    \n",
    "</details>"
   ]
  },
  {
   "cell_type": "code",
   "execution_count": null,
   "metadata": {},
   "outputs": [],
   "source": [
    "# 3. Calculate the mean() of the different features for each DataFrame\n",
    "# (you can use the .mean() function on the whole DataFrame in one go!)"
   ]
  },
  {
   "cell_type": "code",
   "execution_count": null,
   "metadata": {},
   "outputs": [],
   "source": [
    "# Do it in separate cells, so you see both results side by side"
   ]
  },
  {
   "cell_type": "markdown",
   "metadata": {},
   "source": [
    "<details><summary>Solution</summary>\n",
    "\n",
    "```python\n",
    "top10.mean()\n",
    "worst10.mean()\n",
    "```\n",
    "    \n",
    "</details>"
   ]
  },
  {
   "cell_type": "code",
   "execution_count": 124,
   "metadata": {},
   "outputs": [],
   "source": [
    "# 4. Analyze! Compare the two results and tell Daniel what differences you notice :)"
   ]
  },
  {
   "cell_type": "markdown",
   "metadata": {},
   "source": [
    "Your findings and recommendations to Spotify CEO here 💪"
   ]
  }
 ],
 "metadata": {
  "kernelspec": {
   "display_name": "Python 3",
   "language": "python",
   "name": "python3"
  },
  "language_info": {
   "codemirror_mode": {
    "name": "ipython",
    "version": 3
   },
   "file_extension": ".py",
   "mimetype": "text/x-python",
   "name": "python",
   "nbconvert_exporter": "python",
   "pygments_lexer": "ipython3",
   "version": "3.7.0"
  },
  "toc": {
   "base_numbering": 1,
   "nav_menu": {},
   "number_sections": true,
   "sideBar": true,
   "skip_h1_title": false,
   "title_cell": "Table of Contents",
   "title_sidebar": "Contents",
   "toc_cell": false,
   "toc_position": {},
   "toc_section_display": true,
   "toc_window_display": false
  },
  "varInspector": {
   "cols": {
    "lenName": 16,
    "lenType": 16,
    "lenVar": 40
   },
   "kernels_config": {
    "python": {
     "delete_cmd_postfix": "",
     "delete_cmd_prefix": "del ",
     "library": "var_list.py",
     "varRefreshCmd": "print(var_dic_list())"
    },
    "r": {
     "delete_cmd_postfix": ") ",
     "delete_cmd_prefix": "rm(",
     "library": "var_list.r",
     "varRefreshCmd": "cat(var_dic_list()) "
    }
   },
   "types_to_exclude": [
    "module",
    "function",
    "builtin_function_or_method",
    "instance",
    "_Feature"
   ],
   "window_display": false
  }
 },
 "nbformat": 4,
 "nbformat_minor": 4
}
