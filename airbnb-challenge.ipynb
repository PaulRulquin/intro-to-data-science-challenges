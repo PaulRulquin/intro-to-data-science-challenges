{
 "cells": [
  {
   "cell_type": "markdown",
   "metadata": {},
   "source": [
    "# Setup 💻"
   ]
  },
  {
   "cell_type": "markdown",
   "metadata": {},
   "source": [
    "### Welcome to the Jupyter Notebook! How to use this file? 🤔\n",
    "\n",
    "* Type inside the empty cells to write code. These empty cells will have a `In [ ]:` prefix before\n",
    "* Press the `return/enter ⏎` key to add a new line inside the cell\n",
    "* To display your results use the Python built in `print(STUFF_YOU_WANT_TO_PRINT)` method or simply put the stuff you want to print as the last line inside the cell. The result of the last line will appear as the `Out[]:` or the output of the cell :)\n",
    "* Press `shift` + `return/enter ⏎` to run your code 🤓 this will run the code inside your currently selected cell and print anything inside `print()` method and the last line of your cell\n",
    "* To add a new cell, select any cell and press the `b` key (make sure you are not just typing the letter `b` in the cell). This will add a new cell below\n",
    "* To delete a cell, double press the `d` key (make sure you are not just typing the letter `d` in the cell)\n",
    "\n",
    "#### Try to run the code below! 😃"
   ]
  },
  {
   "cell_type": "code",
   "execution_count": null,
   "metadata": {},
   "outputs": [],
   "source": [
    "1 + 1"
   ]
  },
  {
   "cell_type": "code",
   "execution_count": null,
   "metadata": {},
   "outputs": [],
   "source": [
    "\"I am not printed\"\n",
    "print(\"But I am\")\n",
    "\"And so am I, because I am on the last line!\""
   ]
  },
  {
   "cell_type": "markdown",
   "metadata": {},
   "source": [
    "### A. Importing library"
   ]
  },
  {
   "cell_type": "code",
   "execution_count": null,
   "metadata": {
    "ExecuteTime": {
     "end_time": "2020-09-26T10:23:12.780709Z",
     "start_time": "2020-09-26T10:23:12.777522Z"
    }
   },
   "outputs": [],
   "source": [
    "import pandas as pd\n",
    "import seaborn as sns\n",
    "import matplotlib.pyplot as plt"
   ]
  },
  {
   "cell_type": "markdown",
   "metadata": {
    "ExecuteTime": {
     "end_time": "2020-09-26T10:23:42.107215Z",
     "start_time": "2020-09-26T10:23:41.980058Z"
    }
   },
   "source": [
    "### B. Loading Airbnb dataframe"
   ]
  },
  {
   "cell_type": "code",
   "execution_count": null,
   "metadata": {
    "ExecuteTime": {
     "end_time": "2020-09-26T10:24:23.130359Z",
     "start_time": "2020-09-26T10:24:22.975605Z"
    }
   },
   "outputs": [],
   "source": [
    "listings_df = pd.read_csv('airbnb-dataset.csv')\n",
    "listings_df"
   ]
  },
  {
   "cell_type": "markdown",
   "metadata": {},
   "source": [
    "--------"
   ]
  },
  {
   "cell_type": "markdown",
   "metadata": {},
   "source": [
    "# Your Turn 💪"
   ]
  },
  {
   "cell_type": "markdown",
   "metadata": {},
   "source": [
    "## A. Manipulating dataframe"
   ]
  },
  {
   "cell_type": "markdown",
   "metadata": {},
   "source": [
    "### 1. Can you have a quick look at this dataframe by displaying the first 5 rows? "
   ]
  },
  {
   "cell_type": "code",
   "execution_count": null,
   "metadata": {},
   "outputs": [],
   "source": [
    "# Your code goes here 💪"
   ]
  },
  {
   "cell_type": "markdown",
   "metadata": {},
   "source": [
    "<details><summary>Solution</summary>\n",
    "\n",
    "\n",
    "```pandas\n",
    "listings_df.head(5)\n",
    "```\n",
    "\n",
    "\n",
    "</details>"
   ]
  },
  {
   "cell_type": "markdown",
   "metadata": {},
   "source": [
    "### 2. How many rows and columns are in the dataframe?"
   ]
  },
  {
   "cell_type": "code",
   "execution_count": null,
   "metadata": {},
   "outputs": [],
   "source": [
    "# Your code goes here 💪"
   ]
  },
  {
   "cell_type": "markdown",
   "metadata": {
    "ExecuteTime": {
     "end_time": "2020-09-26T10:25:13.728391Z",
     "start_time": "2020-09-26T10:25:13.718289Z"
    }
   },
   "source": [
    "<details><summary>Solution</summary>\n",
    "\n",
    "\n",
    "```pandas\n",
    "listings_df.shape\n",
    "```\n",
    "\n",
    "\n",
    "</details>"
   ]
  },
  {
   "cell_type": "markdown",
   "metadata": {},
   "source": [
    "### 3. What are the features (columns) of the dataframe?"
   ]
  },
  {
   "cell_type": "code",
   "execution_count": null,
   "metadata": {},
   "outputs": [],
   "source": [
    "# Your code goes here 💪"
   ]
  },
  {
   "cell_type": "markdown",
   "metadata": {
    "ExecuteTime": {
     "end_time": "2020-09-26T10:25:44.752149Z",
     "start_time": "2020-09-26T10:25:44.747683Z"
    }
   },
   "source": [
    "<details><summary>Solution</summary>\n",
    "\n",
    "\n",
    "```pandas\n",
    "listings_df.columns\n",
    "```\n",
    "\n",
    "\n",
    "</details>"
   ]
  },
  {
   "cell_type": "markdown",
   "metadata": {},
   "source": [
    "### 4. What are the types of data inside this dataframe?"
   ]
  },
  {
   "cell_type": "code",
   "execution_count": null,
   "metadata": {},
   "outputs": [],
   "source": [
    "# Your code goes here 💪"
   ]
  },
  {
   "cell_type": "markdown",
   "metadata": {
    "ExecuteTime": {
     "end_time": "2020-09-26T10:25:58.602929Z",
     "start_time": "2020-09-26T10:25:58.596505Z"
    }
   },
   "source": [
    "<details><summary>Solution</summary>\n",
    "\n",
    "\n",
    "```pandas\n",
    "listings_df.dtypes\n",
    "```\n",
    "\n",
    "\n",
    "</details>"
   ]
  },
  {
   "cell_type": "markdown",
   "metadata": {},
   "source": [
    "Let's now clean the dataframe 👌"
   ]
  },
  {
   "cell_type": "markdown",
   "metadata": {},
   "source": [
    "### 5. Are the missing values? "
   ]
  },
  {
   "cell_type": "code",
   "execution_count": null,
   "metadata": {},
   "outputs": [],
   "source": [
    "# Your code goes here 💪"
   ]
  },
  {
   "cell_type": "markdown",
   "metadata": {
    "ExecuteTime": {
     "end_time": "2020-09-26T10:29:21.588029Z",
     "start_time": "2020-09-26T10:29:21.567087Z"
    }
   },
   "source": [
    "<details><summary>Solution</summary>\n",
    "\n",
    "\n",
    "```pandas\n",
    "listings_df.isnull().sum()\n",
    "```\n",
    "</details>"
   ]
  },
  {
   "cell_type": "markdown",
   "metadata": {},
   "source": [
    "Let's say we do not want to manipulate the data about `host_name`, and `last_reviews`. And drop the column `id` as well."
   ]
  },
  {
   "cell_type": "markdown",
   "metadata": {},
   "source": [
    "### 6. Can you drop the columns `id`, `host_name`, `last_review`?"
   ]
  },
  {
   "cell_type": "code",
   "execution_count": null,
   "metadata": {},
   "outputs": [],
   "source": [
    "# Your code goes here 💪"
   ]
  },
  {
   "cell_type": "markdown",
   "metadata": {
    "ExecuteTime": {
     "end_time": "2020-09-26T10:32:04.780441Z",
     "start_time": "2020-09-26T10:32:04.769997Z"
    }
   },
   "source": [
    "<details><summary>Solution</summary>\n",
    "\n",
    "\n",
    "```pandas\n",
    "columns_to_drop = ['id', 'host_name', 'last_review']\n",
    "listings_df.drop(columns_to_drop, axis=\"columns\", inplace=True)\n",
    "```\n",
    "\n",
    "</details>"
   ]
  },
  {
   "cell_type": "code",
   "execution_count": null,
   "metadata": {
    "ExecuteTime": {
     "end_time": "2020-09-26T10:32:29.146617Z",
     "start_time": "2020-09-26T10:32:29.130003Z"
    }
   },
   "outputs": [],
   "source": [
    "# Let's see the results by printing the first rows of the dataframe 👇\n"
   ]
  },
  {
   "cell_type": "markdown",
   "metadata": {},
   "source": [
    "We can see that there are aa lots of `NaN`for the column `reviews_per_month`"
   ]
  },
  {
   "cell_type": "markdown",
   "metadata": {},
   "source": [
    "### 7. Can you replace `NaN` for `reviews_per_month` by `0`?"
   ]
  },
  {
   "cell_type": "code",
   "execution_count": null,
   "metadata": {},
   "outputs": [],
   "source": [
    "# Your code goes here 💪"
   ]
  },
  {
   "cell_type": "markdown",
   "metadata": {
    "ExecuteTime": {
     "end_time": "2020-09-26T10:35:19.013452Z",
     "start_time": "2020-09-26T10:35:19.009348Z"
    }
   },
   "source": [
    "<details><summary>Solution</summary>\n",
    "\n",
    "\n",
    "```pandas\n",
    "listings_df.fillna({'reviews_per_month': 0}, inplace=True)\n",
    "```\n",
    "\n",
    "</details>"
   ]
  },
  {
   "cell_type": "code",
   "execution_count": null,
   "metadata": {
    "ExecuteTime": {
     "end_time": "2020-09-26T10:35:26.355483Z",
     "start_time": "2020-09-26T10:35:26.337907Z"
    }
   },
   "outputs": [],
   "source": [
    "# Let's see the result 👇\n"
   ]
  },
  {
   "cell_type": "markdown",
   "metadata": {},
   "source": [
    "### 8. Can you have a look of this dataframe only throught the columns `name`, `neighbourhood_group`, `price`?"
   ]
  },
  {
   "cell_type": "code",
   "execution_count": null,
   "metadata": {},
   "outputs": [],
   "source": [
    "# Your code goes here 💪"
   ]
  },
  {
   "cell_type": "markdown",
   "metadata": {
    "ExecuteTime": {
     "end_time": "2020-09-26T10:36:30.910576Z",
     "start_time": "2020-09-26T10:36:30.894997Z"
    }
   },
   "source": [
    "<details><summary>Solution</summary>\n",
    "\n",
    "\n",
    "```pandas\n",
    "listings_df[['name', 'neighbourhood_group', 'price']]\n",
    "```\n",
    "\n",
    "</details>"
   ]
  },
  {
   "cell_type": "markdown",
   "metadata": {},
   "source": [
    "###  9. Can you display the first 9 rows of the dataset? "
   ]
  },
  {
   "cell_type": "code",
   "execution_count": null,
   "metadata": {},
   "outputs": [],
   "source": [
    "# Your code goes here 💪"
   ]
  },
  {
   "cell_type": "markdown",
   "metadata": {
    "ExecuteTime": {
     "end_time": "2020-09-26T10:37:45.587759Z",
     "start_time": "2020-09-26T10:37:45.568697Z"
    }
   },
   "source": [
    "<details><summary>Solution</summary>\n",
    "\n",
    "\n",
    "```pandas\n",
    "listings_df[0:8]\n",
    "```\n",
    "\n",
    "</details>"
   ]
  },
  {
   "cell_type": "markdown",
   "metadata": {},
   "source": [
    "### 10. Can you display the first 9 row of this dataframe, but only with the columns `name`, `neighbourhood_group`, `price`? "
   ]
  },
  {
   "cell_type": "code",
   "execution_count": null,
   "metadata": {},
   "outputs": [],
   "source": [
    "# Your code goes here 💪"
   ]
  },
  {
   "cell_type": "markdown",
   "metadata": {
    "ExecuteTime": {
     "end_time": "2020-09-26T10:38:05.622816Z",
     "start_time": "2020-09-26T10:38:05.611899Z"
    }
   },
   "source": [
    "<details><summary>Solution</summary>\n",
    "\n",
    "\n",
    "```pandas\n",
    "listings_df[0:8][['name', 'neighbourhood_group', 'price']]\n",
    "```\n",
    "\n",
    "</details>"
   ]
  },
  {
   "cell_type": "markdown",
   "metadata": {},
   "source": [
    "## Boolean Indexing"
   ]
  },
  {
   "cell_type": "markdown",
   "metadata": {},
   "source": [
    "### 11. Let's print the flats which have a price below `100`?"
   ]
  },
  {
   "cell_type": "code",
   "execution_count": null,
   "metadata": {},
   "outputs": [],
   "source": [
    "# Your code goes here 💪"
   ]
  },
  {
   "cell_type": "markdown",
   "metadata": {
    "ExecuteTime": {
     "end_time": "2020-09-26T10:41:26.856951Z",
     "start_time": "2020-09-26T10:41:26.847719Z"
    }
   },
   "source": [
    "<details><summary>Solution</summary>\n",
    "\n",
    "\n",
    "```pandas\n",
    "listings_df[listings_df['price'] < 100]\n",
    "```\n",
    "\n",
    "</details>"
   ]
  },
  {
   "cell_type": "markdown",
   "metadata": {},
   "source": [
    "## B. Exploratory Data analysis\n",
    "\n",
    "You can find the right methods to solve some of these challenges in the Learn content - the video and Pandas Summary. But for some, you will need to do your own research - you might need to look inside the [Pandas documentation](https://pandas.pydata.org/docs/user_guide/index.html), check on websites like [Stackoverflow](https://stackoverflow.com/) or [Quora](https://www.quora.com/). There's always someone who has asked your question before 😉"
   ]
  },
  {
   "cell_type": "markdown",
   "metadata": {},
   "source": [
    "### 1. What are the 10 most reviewed listings?"
   ]
  },
  {
   "cell_type": "code",
   "execution_count": null,
   "metadata": {
    "ExecuteTime": {
     "end_time": "2020-09-26T12:40:55.113645Z",
     "start_time": "2020-09-26T12:40:55.098188Z"
    }
   },
   "outputs": [],
   "source": [
    "# Your code goes here 💪"
   ]
  },
  {
   "cell_type": "markdown",
   "metadata": {
    "ExecuteTime": {
     "end_time": "2020-09-26T12:41:25.325065Z",
     "start_time": "2020-09-26T12:41:25.296474Z"
    }
   },
   "source": [
    "<details><summary>Solution</summary>\n",
    "\n",
    "\n",
    "```pandas\n",
    "listings_df.nlargest(10, 'number_of_reviews')\n",
    "```\n",
    "\n",
    "</details>"
   ]
  },
  {
   "cell_type": "markdown",
   "metadata": {},
   "source": [
    "### 2. What are the different neighourhoods in NYC?"
   ]
  },
  {
   "cell_type": "code",
   "execution_count": null,
   "metadata": {},
   "outputs": [],
   "source": [
    "# Your code goes here 💪"
   ]
  },
  {
   "cell_type": "markdown",
   "metadata": {},
   "source": [
    "<details><summary>Solution</summary>\n",
    "\n",
    "\n",
    "```pandas\n",
    "listings_df['neighbourhood'].unique()\n",
    "```\n",
    "\n",
    "</p>\n",
    "</details>"
   ]
  },
  {
   "cell_type": "markdown",
   "metadata": {},
   "source": [
    "### 3. What are the different neighourhood group in NYC?"
   ]
  },
  {
   "cell_type": "code",
   "execution_count": null,
   "metadata": {},
   "outputs": [],
   "source": [
    "# Your code goes here 💪"
   ]
  },
  {
   "cell_type": "markdown",
   "metadata": {
    "ExecuteTime": {
     "end_time": "2020-09-26T12:48:56.425931Z",
     "start_time": "2020-09-26T12:48:56.419651Z"
    }
   },
   "source": [
    "<details><summary>Solution</summary>\n",
    "\n",
    "\n",
    "```pandas\n",
    "listings_df['neighbourhood_group'].unique()\n",
    "```\n",
    "\n",
    "</p>\n",
    "</details>"
   ]
  },
  {
   "cell_type": "markdown",
   "metadata": {},
   "source": [
    "### 4. [Bonus] Can you count how many flats are per neighbourhood group?"
   ]
  },
  {
   "cell_type": "code",
   "execution_count": null,
   "metadata": {},
   "outputs": [],
   "source": [
    "# Your code goes here 💪"
   ]
  },
  {
   "cell_type": "markdown",
   "metadata": {
    "ExecuteTime": {
     "end_time": "2020-09-26T12:54:29.150430Z",
     "start_time": "2020-09-26T12:54:29.139887Z"
    },
    "scrolled": true
   },
   "source": [
    "<details><summary>Solution</summary>\n",
    "\n",
    "\n",
    "```pandas\n",
    "listings_df['neighbourhood_group'].value_counts()\n",
    "```\n",
    "\n",
    "</p>\n",
    "</details>"
   ]
  },
  {
   "cell_type": "markdown",
   "metadata": {},
   "source": [
    "### 5.  What are the Top 10 neighbourhoods?\n",
    "\n"
   ]
  },
  {
   "cell_type": "code",
   "execution_count": null,
   "metadata": {},
   "outputs": [],
   "source": [
    "# Your code goes here 💪"
   ]
  },
  {
   "cell_type": "markdown",
   "metadata": {},
   "source": [
    "<details><summary>Solution</summary>\n",
    "\n",
    "\n",
    "```pandas\n",
    "listings_df['neighbourhood'].value_counts().head(10)\n",
    "```\n",
    "\n",
    "</p>\n",
    "</details>"
   ]
  },
  {
   "cell_type": "markdown",
   "metadata": {},
   "source": [
    "### 6. [Bonus] Can you plot the number of flats per Top 10 neighbourhood on an histogram?"
   ]
  },
  {
   "cell_type": "code",
   "execution_count": null,
   "metadata": {},
   "outputs": [],
   "source": [
    "# Your code goes here 💪"
   ]
  },
  {
   "cell_type": "markdown",
   "metadata": {
    "ExecuteTime": {
     "end_time": "2020-09-26T12:57:49.736620Z",
     "start_time": "2020-09-26T12:57:49.066896Z"
    },
    "scrolled": true
   },
   "source": [
    "<details><summary>Solution</summary>\n",
    "\n",
    "\n",
    "```pandas\n",
    "listings_df['neighbourhood'].value_counts().head(10).plot(kind='bar')\n",
    "```\n",
    "\n",
    "</p>\n",
    "</details>"
   ]
  },
  {
   "cell_type": "markdown",
   "metadata": {},
   "source": [
    "### Let's use the `seaborn` library to have nicer charts 📊"
   ]
  },
  {
   "cell_type": "markdown",
   "metadata": {},
   "source": [
    "Let's plot the answer to 2.3.4 - number of flats per neighbourhood group - using the seaborn [countplot](https://seaborn.pydata.org/generated/seaborn.countplot.html)"
   ]
  },
  {
   "cell_type": "code",
   "execution_count": null,
   "metadata": {
    "ExecuteTime": {
     "end_time": "2020-09-26T13:09:06.400231Z",
     "start_time": "2020-09-26T13:09:06.397482Z"
    }
   },
   "outputs": [],
   "source": [
    "# Your code here (we want something like the chart below)"
   ]
  },
  {
   "cell_type": "code",
   "execution_count": null,
   "metadata": {},
   "outputs": [],
   "source": [
    "listings_df['neighbourhood_group'].value_counts()"
   ]
  },
  {
   "cell_type": "markdown",
   "metadata": {},
   "source": [
    "<details><summary>Solution</summary>\n",
    "\n",
    "\n",
    "```pandas\n",
    "sns.countplot(data=listings_df, x='neighbourhood_group')\n",
    "```\n",
    "\n",
    "</p>\n",
    "</details>"
   ]
  },
  {
   "cell_type": "markdown",
   "metadata": {},
   "source": [
    "### 7. What's the different room types?"
   ]
  },
  {
   "cell_type": "code",
   "execution_count": null,
   "metadata": {},
   "outputs": [],
   "source": [
    "# Your code goes here 💪"
   ]
  },
  {
   "cell_type": "markdown",
   "metadata": {
    "ExecuteTime": {
     "end_time": "2020-09-26T13:24:14.859121Z",
     "start_time": "2020-09-26T13:24:14.852424Z"
    }
   },
   "source": [
    "<details><summary>Solution</summary>\n",
    "\n",
    "\n",
    "```pandas\n",
    "listings_df['room_type'].unique()\n",
    "```\n",
    "\n",
    "\n",
    "</details>"
   ]
  },
  {
   "cell_type": "markdown",
   "metadata": {},
   "source": [
    "### 8. Can you plot the separation of types of rooms per neighbourhood group?"
   ]
  },
  {
   "cell_type": "code",
   "execution_count": null,
   "metadata": {},
   "outputs": [],
   "source": [
    "# Your code goes here (let's use  the seaborn library!) 💪"
   ]
  },
  {
   "cell_type": "markdown",
   "metadata": {
    "ExecuteTime": {
     "end_time": "2020-09-26T13:27:53.319619Z",
     "start_time": "2020-09-26T13:27:53.077122Z"
    }
   },
   "source": [
    "<details><summary>Solution</summary>\n",
    "\n",
    "\n",
    "```pandas\n",
    "sns.countplot(data=listings_df, x='neighbourhood_group', hue='room_type')\n",
    "```\n",
    "\n",
    "</details>"
   ]
  },
  {
   "cell_type": "markdown",
   "metadata": {},
   "source": [
    "### 9. What is the distribution of flat prices?\n",
    "\n",
    "The seaborn [distplot](https://seaborn.pydata.org/generated/seaborn.distplot.html) would help here!"
   ]
  },
  {
   "cell_type": "code",
   "execution_count": null,
   "metadata": {},
   "outputs": [],
   "source": [
    "# Your code goes here (seaborn library) 💪"
   ]
  },
  {
   "cell_type": "markdown",
   "metadata": {
    "ExecuteTime": {
     "end_time": "2020-09-26T13:30:04.908699Z",
     "start_time": "2020-09-26T13:30:04.660182Z"
    }
   },
   "source": [
    "<details><summary>Solution</summary>\n",
    "\n",
    "\n",
    "```pandas\n",
    "sns.distplot(listings_df['price'])\n",
    "```\n",
    "\n",
    "</p>\n",
    "</details>"
   ]
  },
  {
   "cell_type": "markdown",
   "metadata": {},
   "source": [
    "### 10. We can see some _outliers_. Can you plot the distribution of the flats which have a price below `500`?"
   ]
  },
  {
   "cell_type": "code",
   "execution_count": null,
   "metadata": {},
   "outputs": [],
   "source": [
    "# Your code goes here (seaborn library) 💪"
   ]
  },
  {
   "cell_type": "markdown",
   "metadata": {
    "ExecuteTime": {
     "end_time": "2020-09-26T13:42:50.361175Z",
     "start_time": "2020-09-26T13:42:50.351598Z"
    }
   },
   "source": [
    "<details><summary>Solution</summary>\n",
    "\n",
    "\n",
    "```pandas\n",
    "affordable_df = listings_df[listings_df['price'] <= 500]\n",
    "sns.displot(affordable_df['price'])\n",
    "```\n",
    "</details>"
   ]
  },
  {
   "cell_type": "markdown",
   "metadata": {},
   "source": [
    "### 11. What is the average price of a flat?"
   ]
  },
  {
   "cell_type": "code",
   "execution_count": null,
   "metadata": {},
   "outputs": [],
   "source": [
    "# Your code goes here 💪"
   ]
  },
  {
   "cell_type": "markdown",
   "metadata": {
    "ExecuteTime": {
     "end_time": "2020-09-26T13:43:28.850219Z",
     "start_time": "2020-09-26T13:43:28.844823Z"
    }
   },
   "source": [
    "<details><summary>Solution</summary>\n",
    "\n",
    "\n",
    "```pandas\n",
    "affordable_df['price'].mean()\n",
    "```\n",
    "</details>"
   ]
  },
  {
   "cell_type": "markdown",
   "metadata": {},
   "source": [
    "### 12.  What is the distribution of flat prices based on the Neighbourhood Group?\n",
    "\n",
    "[violinplot](https://seaborn.pydata.org/generated/seaborn.violinplot.html) or [catplot](https://seaborn.pydata.org/generated/seaborn.catplot.html) are helpful to visualize distributions split by different categories."
   ]
  },
  {
   "cell_type": "code",
   "execution_count": null,
   "metadata": {
    "ExecuteTime": {
     "end_time": "2020-09-26T13:50:39.076310Z",
     "start_time": "2020-09-26T13:50:39.074066Z"
    }
   },
   "outputs": [],
   "source": [
    "# Your code goes here 💪 \n",
    "plt.figure(figsize=(15, 8)) # you can use this line to resize the (width, height) of your plots"
   ]
  },
  {
   "cell_type": "markdown",
   "metadata": {
    "ExecuteTime": {
     "end_time": "2020-09-26T13:51:12.242269Z",
     "start_time": "2020-09-26T13:51:11.885882Z"
    }
   },
   "source": [
    "<details><summary>Solution</summary>\n",
    "\n",
    "\n",
    "```pandas\n",
    "plt.figure(figsize=(15, 8))\n",
    "sns.violinplot(data=affordable_df, x=\"neighbourhood_group\", y=\"price\")\n",
    "```\n",
    "</details>"
   ]
  },
  {
   "cell_type": "markdown",
   "metadata": {},
   "source": [
    "### 13. Can we plot the listings on a map?\n",
    "\n",
    "Before you check the solution, think about which columns can help us do that? 🤔\n",
    "\n",
    "What could be on the `horizontal` (`x`) axis and what would be on the `vertical` (`y`) axis?\n",
    "\n",
    "You can use the [DataFrame.plot()](https://pandas.pydata.org/pandas-docs/stable/reference/api/pandas.DataFrame.plot.html) function for this one and use a `kind='scatter'` argument to make a scatterplot - one dot per flat 🏠"
   ]
  },
  {
   "cell_type": "code",
   "execution_count": null,
   "metadata": {},
   "outputs": [],
   "source": [
    "# Your code goes here 💪"
   ]
  },
  {
   "cell_type": "markdown",
   "metadata": {
    "ExecuteTime": {
     "end_time": "2020-09-26T13:58:02.860921Z",
     "start_time": "2020-09-26T13:58:02.845351Z"
    }
   },
   "source": [
    "\n",
    "<details><summary>Solution</summary>\n",
    "\n",
    "\n",
    "```pandas\n",
    "affordable_df.plot(\n",
    "    kind='scatter',\n",
    "    x='longitude',\n",
    "    y='latitude',\n",
    "    c='price',\n",
    "    cmap='inferno',\n",
    "    colorbar=True,\n",
    "    alpha=0.8,\n",
    "    figsize=(12,8))\n",
    "```\n",
    "</details>"
   ]
  },
  {
   "cell_type": "markdown",
   "metadata": {},
   "source": [
    "### [Bonus] Let's try to overlay our scatterplot on a map of NYC"
   ]
  },
  {
   "cell_type": "markdown",
   "metadata": {
    "ExecuteTime": {
     "end_time": "2020-09-26T13:59:19.754206Z",
     "start_time": "2020-09-26T13:59:18.679774Z"
    }
   },
   "source": [
    "\n",
    "<details><summary>Solution</summary>\n",
    "\n",
    "\n",
    "```pandas\n",
    "plt.imshow(plt.imread('https://upload.wikimedia.org/wikipedia/commons/e/ec/Neighbourhoods_New_York_City_Map.PNG'), zorder=0, extent=[-74.258, -73.7, 40.49, 40.92])\n",
    "ax = plt.gca()\n",
    "affordable_df.plot(\n",
    "    ax=ax,\n",
    "    zorder=1,\n",
    "    kind='scatter',\n",
    "    x='longitude',\n",
    "    y='latitude',\n",
    "    c='price',\n",
    "    cmap='inferno',\n",
    "    colorbar=True,\n",
    "    alpha=0.8,\n",
    "    figsize=(12,8))\n",
    "```\n",
    "</details>"
   ]
  },
  {
   "cell_type": "markdown",
   "metadata": {},
   "source": [
    "**Congrats on completing this challenge!** 🏙️"
   ]
  }
 ],
 "metadata": {
  "kernelspec": {
   "display_name": "Python 3",
   "language": "python",
   "name": "python3"
  },
  "language_info": {
   "codemirror_mode": {
    "name": "ipython",
    "version": 3
   },
   "file_extension": ".py",
   "mimetype": "text/x-python",
   "name": "python",
   "nbconvert_exporter": "python",
   "pygments_lexer": "ipython3",
   "version": "3.7.0"
  },
  "toc": {
   "base_numbering": 1,
   "nav_menu": {},
   "number_sections": true,
   "sideBar": true,
   "skip_h1_title": false,
   "title_cell": "Table of Contents",
   "title_sidebar": "Contents",
   "toc_cell": false,
   "toc_position": {},
   "toc_section_display": true,
   "toc_window_display": false
  },
  "varInspector": {
   "cols": {
    "lenName": 16,
    "lenType": 16,
    "lenVar": 40
   },
   "kernels_config": {
    "python": {
     "delete_cmd_postfix": "",
     "delete_cmd_prefix": "del ",
     "library": "var_list.py",
     "varRefreshCmd": "print(var_dic_list())"
    },
    "r": {
     "delete_cmd_postfix": ") ",
     "delete_cmd_prefix": "rm(",
     "library": "var_list.r",
     "varRefreshCmd": "cat(var_dic_list()) "
    }
   },
   "types_to_exclude": [
    "module",
    "function",
    "builtin_function_or_method",
    "instance",
    "_Feature"
   ],
   "window_display": false
  }
 },
 "nbformat": 4,
 "nbformat_minor": 4
}
