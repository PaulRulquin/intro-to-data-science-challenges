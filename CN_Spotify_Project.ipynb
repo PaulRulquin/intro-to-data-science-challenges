{
 "cells": [
  {
   "cell_type": "markdown",
   "metadata": {},
   "source": [
    "# 准备工作 💻 (不要忘记在开始之前运行以下的导入和加载单元格 👇)"
   ]
  },
  {
   "cell_type": "markdown",
   "metadata": {},
   "source": [
    "## 1. 工具库导入"
   ]
  },
  {
   "cell_type": "code",
   "execution_count": null,
   "metadata": {
    "ExecuteTime": {
     "end_time": "2020-09-27T18:10:59.565886Z",
     "start_time": "2020-09-27T18:10:58.349400Z"
    }
   },
   "outputs": [],
   "source": [
    "import pandas as pd\n",
    "import numpy as np\n",
    "import matplotlib.pyplot as plt\n",
    "import seaborn as sns"
   ]
  },
  {
   "cell_type": "markdown",
   "metadata": {
    "ExecuteTime": {
     "end_time": "2020-09-27T18:10:59.695147Z",
     "start_time": "2020-09-27T18:10:59.567829Z"
    }
   },
   "source": [
    "## 2. 加载Spotify数据"
   ]
  },
  {
   "cell_type": "code",
   "execution_count": null,
   "metadata": {
    "ExecuteTime": {
     "end_time": "2020-09-27T18:11:00.172221Z",
     "start_time": "2020-09-27T18:10:59.699946Z"
    }
   },
   "outputs": [],
   "source": [
    "df = pd.read_csv('spotify-dataset.csv')\n",
    "df"
   ]
  },
  {
   "cell_type": "markdown",
   "metadata": {},
   "source": [
    "----------"
   ]
  },
  {
   "cell_type": "markdown",
   "metadata": {},
   "source": [
    "#  你的任务从这里开始 🔥"
   ]
  },
  {
   "cell_type": "markdown",
   "metadata": {},
   "source": [
    "请注意，**以下实战练习没有答案**。 但是这些问题与你在上一节课中所做的练习非常相似 - **探索 AirBnB 数据集**。\n",
    "\n",
    "因此，你可以参照此前的练习回顾之前的答案🙌 当然还能参考阅读文档，[Pandas 指南](https://pandas.pydata.org/docs/user_guide/index.html) html)，另外，不要忘了还有助教随时为你提供帮助！"
   ]
  },
  {
   "cell_type": "markdown",
   "metadata": {},
   "source": [
    "## 您可以通过显示前 10 行来快速查看此数据框吗？"
   ]
  },
  {
   "cell_type": "code",
   "execution_count": null,
   "metadata": {},
   "outputs": [],
   "source": [
    "# Your code goes here 💪\n"
   ]
  },
  {
   "cell_type": "markdown",
   "metadata": {
    "ExecuteTime": {
     "end_time": "2020-09-27T15:38:37.540621Z",
     "start_time": "2020-09-27T15:38:37.536934Z"
    }
   },
   "source": [
    "## 此数据集中收录了多少首歌？"
   ]
  },
  {
   "cell_type": "code",
   "execution_count": null,
   "metadata": {},
   "outputs": [],
   "source": [
    "# Your code goes here 💪\n"
   ]
  },
  {
   "cell_type": "markdown",
   "metadata": {},
   "source": [
    "## 共计涉及多少位艺术家`artists`？"
   ]
  },
  {
   "cell_type": "code",
   "execution_count": null,
   "metadata": {},
   "outputs": [],
   "source": [
    "# Your code goes here 💪\n"
   ]
  },
  {
   "cell_type": "markdown",
   "metadata": {},
   "source": [
    "## 一首歌的平均时长是多少? 以分钟为单位\n",
    "\n",
    "**注意**对应列为 `duration_ms`，显示的持续时长的单位以毫秒为记录。"
   ]
  },
  {
   "cell_type": "code",
   "execution_count": null,
   "metadata": {},
   "outputs": [],
   "source": [
    "# Your code goes here 💪\n"
   ]
  },
  {
   "cell_type": "markdown",
   "metadata": {},
   "source": [
    "## 你能画出持续时长的分布吗？"
   ]
  },
  {
   "cell_type": "code",
   "execution_count": null,
   "metadata": {},
   "outputs": [],
   "source": [
    "# Your code goes here 💪\n"
   ]
  },
  {
   "cell_type": "markdown",
   "metadata": {},
   "source": [
    "## [Follow-up] 你能通过去除离群值（`outliers`）使这个图更具可读性吗？\n",
    "\n",
    "[布尔索引](https://cmdlinetips.com/2018/02/how-to-subset-pandas-dataframe-based-on-values-of-a-column/) 在这里会有所帮助！ 请务必查看 AirBnB 挑战，了解我们如何处理相关的离群值。\n",
    "\n",
    "**注意**我们只删除了大约 470 首歌曲（近 17 万首歌曲），并获得了更具洞察力的细节！"
   ]
  },
  {
   "cell_type": "code",
   "execution_count": null,
   "metadata": {},
   "outputs": [],
   "source": [
    "# Your code goes here 💪"
   ]
  },
  {
   "cell_type": "markdown",
   "metadata": {},
   "source": [
    "**提示：** 你可以将 `bins` 参数添加到绘图函数中，以增加图表中的列数。 例如：\n",
    "\n",
    "`sns.distplot(df['duration_ms'], bins=30)`\n",
    "\n",
    "尝试更改 `bins` 的数量，看看它如何影响图表的可读性。"
   ]
  },
  {
   "cell_type": "markdown",
   "metadata": {},
   "source": [
    "## 最长的 10 首歌曲（根据时长判断）是哪些？"
   ]
  },
  {
   "cell_type": "code",
   "execution_count": null,
   "metadata": {},
   "outputs": [],
   "source": [
    "# Your code goes here 💪"
   ]
  },
  {
   "cell_type": "markdown",
   "metadata": {},
   "source": [
    "## 最受欢迎的10首歌曲是什么？ 我们想要一个只有 `artists`、`name` 和 `popularity` 这三列作为输出的数据帧DataFrame！"
   ]
  },
  {
   "cell_type": "code",
   "execution_count": null,
   "metadata": {},
   "outputs": [],
   "source": [
    "# Your code goes here 💪"
   ]
  },
  {
   "cell_type": "markdown",
   "metadata": {},
   "source": [
    "# ☎️ 你接到了来自 Spotify 首席执行官 Daniel Ek 的电话 ☎️\n",
    "\n",
    "<div style=\"display: flex; margin-top: 20px;\">\n",
    "    <p style=\"font-style: italic; padding: 30px;\">\n",
    "    你好！ 很高兴你能分析我们的数据并期待你的分析结果！ 👍 <br> 我希望你能帮我们解答接下来的一些问题。 从而协助指导我们的艺术家甄选优化策略的业务。</p>\n",
    "    <img src=\"./photo.jpeg\" width=300/>\n",
    "</div>\n",
    "此部分有答案"
   ]
  },
  {
   "cell_type": "markdown",
   "metadata": {},
   "source": [
    "## 首先，让我们创建一个仅包含 2000 年后歌曲的新 数据帧DataFrame"
   ]
  },
  {
   "cell_type": "code",
   "execution_count": null,
   "metadata": {},
   "outputs": [],
   "source": [
    "# Your code here"
   ]
  },
  {
   "cell_type": "markdown",
   "metadata": {},
   "source": [
    "<details><summary>Solution</summary>\n",
    "\n",
    "```python\n",
    "post2000 = df[df['year'] > 1999]\n",
    "```\n",
    "\n",
    "</details>"
   ]
  },
  {
   "cell_type": "markdown",
   "metadata": {},
   "source": [
    "## 这一时期歌曲数量排名前10的艺术家有哪些？\n",
    "\n",
    "**提示**: 这里可以使用 `.value_counts()` 或者 `.groupby()` 然后结合 [.count()](https://pandas.pydata.org/pandas-docs/stable/reference/api/pandas.Series.count.html) 函数 - 类似于 `.mean()` 和`.sum()` 的运算方法.\n",
    "\n",
    "典型的`.groupby()`集合分组函数使用语法规则为:\n",
    "\n",
    "```\n",
    "df.groupby('COLUMN_NAME').some_function()[['COLUMN_TO_MEASURE']]\n",
    "```\n",
    "\n",
    "例如:\n",
    "\n",
    "```\n",
    "df.groupby('popularity').count()[['artists']]\n",
    "df.groupby('year').sum()[['duration_ms']]\n",
    "```\n",
    "\n",
    "或者你想查看 **多个列**:\n",
    "\n",
    "```\n",
    "df.groupby('popularity').count()[['artists', 'key']]\n",
    "df.groupby('year').sum()[['duration_ms', 'loudness']]\n",
    "```\n",
    "\n",
    "Pandas文档针对 [.groupby()](https://pandas.pydata.org/pandas-docs/stable/user_guide/groupby.html)集合分组函数使用有非常详细的说明. 初期接触需要花费一些时间，但你可以在这里找到很多启发!"
   ]
  },
  {
   "cell_type": "code",
   "execution_count": null,
   "metadata": {},
   "outputs": [],
   "source": [
    "# Your code goes here 💪"
   ]
  },
  {
   "cell_type": "markdown",
   "metadata": {},
   "source": [
    "<details><summary>Solution</summary>\n",
    "\n",
    "```python\n",
    "post2000['artists'].value_counts().head(10)\n",
    "```\n",
    "or\n",
    "\n",
    "```python\n",
    "artist_songs = post2000.groupby('artists').count()[['name']]\n",
    "artist_songs.sort_values('name').tail(10)\n",
    "```\n",
    "</details>\n"
   ]
  },
  {
   "cell_type": "markdown",
   "metadata": {},
   "source": [
    "###  👀确保让你的分析结果能够可视化📊 你应该不会把你的 Python 代码直接发给 Daniel的，对吗？ 👀"
   ]
  },
  {
   "cell_type": "code",
   "execution_count": null,
   "metadata": {},
   "outputs": [],
   "source": [
    "# Your code here"
   ]
  },
  {
   "cell_type": "markdown",
   "metadata": {},
   "source": [
    "\n",
    "\n",
    "<details><summary>Solution</summary>\n",
    "\n",
    "```python\n",
    "top10artists = post2000['artists'].value_counts().head(10)\n",
    "top10artists.plot(kind='bar')\n",
    "```\n",
    "    \n",
    "</details>\n"
   ]
  },
  {
   "cell_type": "markdown",
   "metadata": {},
   "source": [
    "## [Follow-up]  同一个艺术家是否经常获得最高人气？ 让我们来看看最受欢迎的 10 位艺术家，看看上面的艺术家是否经常出现在列表中\n",
    "\n",
    "**提示:**  由于 `popularity` 是一个 _numerical_ 列，我们可以按 `artists` 分组的流行度的 `.mean()` 来计算。"
   ]
  },
  {
   "cell_type": "code",
   "execution_count": null,
   "metadata": {},
   "outputs": [],
   "source": [
    "# Your code goes here 💪"
   ]
  },
  {
   "cell_type": "markdown",
   "metadata": {},
   "source": [
    "在这里向 Spotify CEO 解释你的发现 💪"
   ]
  },
  {
   "cell_type": "markdown",
   "metadata": {},
   "source": [
    "<details><summary>Solution</summary>\n",
    "\n",
    "\n",
    "```python\n",
    "post2000.groupby('artists').mean()[['popularity']].sort_values('popularity').tail(10)\n",
    "```\n",
    "\n",
    "This would be a one-liner solution, but remember that you can also break your code up to multiple lines to make it more readable:\n",
    "\n",
    "```python\n",
    "artist_popularity = post2000.groupby('artists').mean()[['popularity']]\n",
    "artist_popularity.sort_values('popularity').tail(10)\n",
    "```\n",
    "\n",
    "We take the `tail()` because by default the `sort_values()` function sorts from lowest to highest.\n",
    "    \n",
    "</details>\n"
   ]
  },
  {
   "cell_type": "markdown",
   "metadata": {},
   "source": [
    "## 你能直观地检查一下“流行度” `popularity` 是如何随着“年份” `year` 而变化的吗？\n",
    "\n",
    "**提示：** **scatterplot散点图** 非常适合可视化两个数字列之间的关系。"
   ]
  },
  {
   "cell_type": "code",
   "execution_count": null,
   "metadata": {},
   "outputs": [],
   "source": [
    "# Your code goes here "
   ]
  },
  {
   "cell_type": "markdown",
   "metadata": {},
   "source": [
    "在这里向 Spotify CEO 解释你的发现 💪"
   ]
  },
  {
   "cell_type": "markdown",
   "metadata": {},
   "source": [
    "\n",
    "\n",
    "<details><summary>Solution</summary>\n",
    "\n",
    "```python\n",
    "sns.scatterplot(data=post2000, x='year', y='popularity')\n",
    "```\n",
    "    \n",
    "</details>\n"
   ]
  },
  {
   "cell_type": "markdown",
   "metadata": {},
   "source": [
    "**提示**：即使你可能已经看到分布趋势，您还可以使用 Seaborn `regplot` 绘制趋势线。 试试看👇"
   ]
  },
  {
   "cell_type": "code",
   "execution_count": null,
   "metadata": {},
   "outputs": [],
   "source": [
    "sns.regplot(data=post2000, x='year', y='popularity')"
   ]
  },
  {
   "cell_type": "markdown",
   "metadata": {},
   "source": [
    "## 最重要的是——是什么造就了出色的艺术家？ 🤔\n",
    "\n",
    "数据中有许多有趣的特征features——代表一首歌曲的不同维度的指数，比如`speechiness`, `danceability`, `energy` 等等。\n",
    "\n",
    "我想知道顶尖艺术家与最不受欢迎的艺术家的区别。 我们应该寻找什么样的艺术家？ 👩‍🎤"
   ]
  },
  {
   "cell_type": "code",
   "execution_count": null,
   "metadata": {},
   "outputs": [],
   "source": [
    "# 提示：一步一步来，慢工出细活💪\n",
    "# 1. 创建一个由最受欢迎的 10 位艺术家中组成的数据帧DataFrame\n",
    "# （类似于你在之前完成的，但请注意我们想要一个包含所有数据的 数据帧，而不是只有艺术家单独一列的）\n"
   ]
  },
  {
   "cell_type": "markdown",
   "metadata": {},
   "source": [
    "\n",
    "\n",
    "<details><summary>Solution</summary>\n",
    "\n",
    "```python\n",
    "top10 = post2000.groupby('artists').mean().sort_values('popularity').tail(10)\n",
    "```\n",
    "    \n",
    "</details>\n"
   ]
  },
  {
   "cell_type": "code",
   "execution_count": null,
   "metadata": {},
   "outputs": [],
   "source": [
    "# 2. 从最不受欢迎的 10 位艺术家中创建一个 数据帧\n",
    "# （你可以重新调用上面的代码，只需要从选择受欢迎程度最低 的10 位艺术家；））\n"
   ]
  },
  {
   "cell_type": "markdown",
   "metadata": {},
   "source": [
    "<details><summary>Solution</summary>\n",
    "\n",
    "```python\n",
    "worst10 = post2000.groupby('artists').mean().sort_values('popularity').head(10)\n",
    "```\n",
    "    \n",
    "</details>"
   ]
  },
  {
   "cell_type": "code",
   "execution_count": null,
   "metadata": {},
   "outputs": [],
   "source": [
    "# 3. 计算每个数据帧不同特征的mean()\n",
    "# （您可以一次性在整个 DataFrame 上使用 .mean() 函数！）\n"
   ]
  },
  {
   "cell_type": "code",
   "execution_count": null,
   "metadata": {},
   "outputs": [],
   "source": [
    "# 可以在单独的单元格中分别求最受欢迎和最不受欢迎两个数据帧的平均值，因此你可以并排看到两个结果\n"
   ]
  },
  {
   "cell_type": "markdown",
   "metadata": {},
   "source": [
    "<details><summary>Solution</summary>\n",
    "\n",
    "```python\n",
    "top10.mean()\n",
    "worst10.mean()\n",
    "```\n",
    "    \n",
    "</details>"
   ]
  },
  {
   "cell_type": "code",
   "execution_count": null,
   "metadata": {},
   "outputs": [],
   "source": [
    "# 4. 现在是分析阶段了，比较两个结果并告诉Daniel你的发现：）\n"
   ]
  },
  {
   "cell_type": "markdown",
   "metadata": {},
   "source": [
    "陈述你的发现以及对 Spotify CEO 的建议 💪"
   ]
  },
  {
   "cell_type": "code",
   "execution_count": null,
   "metadata": {},
   "outputs": [],
   "source": []
  }
 ],
 "metadata": {
  "kernelspec": {
   "display_name": "Python 3",
   "language": "python",
   "name": "python3"
  },
  "language_info": {
   "codemirror_mode": {
    "name": "ipython",
    "version": 3
   },
   "file_extension": ".py",
   "mimetype": "text/x-python",
   "name": "python",
   "nbconvert_exporter": "python",
   "pygments_lexer": "ipython3",
   "version": "3.8.6"
  },
  "toc": {
   "base_numbering": 1,
   "nav_menu": {},
   "number_sections": true,
   "sideBar": true,
   "skip_h1_title": false,
   "title_cell": "Table of Contents",
   "title_sidebar": "Contents",
   "toc_cell": false,
   "toc_position": {},
   "toc_section_display": true,
   "toc_window_display": false
  },
  "varInspector": {
   "cols": {
    "lenName": 16,
    "lenType": 16,
    "lenVar": 40
   },
   "kernels_config": {
    "python": {
     "delete_cmd_postfix": "",
     "delete_cmd_prefix": "del ",
     "library": "var_list.py",
     "varRefreshCmd": "print(var_dic_list())"
    },
    "r": {
     "delete_cmd_postfix": ") ",
     "delete_cmd_prefix": "rm(",
     "library": "var_list.r",
     "varRefreshCmd": "cat(var_dic_list()) "
    }
   },
   "types_to_exclude": [
    "module",
    "function",
    "builtin_function_or_method",
    "instance",
    "_Feature"
   ],
   "window_display": false
  }
 },
 "nbformat": 4,
 "nbformat_minor": 4
}
